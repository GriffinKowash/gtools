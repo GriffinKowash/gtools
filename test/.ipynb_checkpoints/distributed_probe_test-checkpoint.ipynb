{
 "cells": [
  {
   "cell_type": "code",
   "execution_count": 1,
   "id": "02b7b852-1f81-4c14-a7c0-414c6e8bcd19",
   "metadata": {},
   "outputs": [],
   "source": [
    "from gtools.gtools import load_distributed_probe, convert_distributed_probe\n",
    "import numpy as np"
   ]
  },
  {
   "cell_type": "code",
   "execution_count": 2,
   "id": "4cd4db21-5e33-4661-b1d1-db0f5b205ef2",
   "metadata": {
    "tags": []
   },
   "outputs": [],
   "source": [
    "probe_path = r\"C:\\Users\\griffin.kowash\\Documents\\packages\\gtools\\test\\files\\distributed_probe_demo.dat\""
   ]
  },
  {
   "cell_type": "code",
   "execution_count": 6,
   "id": "c10fe9ca-30ec-47ba-af89-fec4e225cd66",
   "metadata": {
    "tags": []
   },
   "outputs": [
    {
     "name": "stdout",
     "output_type": "stream",
     "text": [
      "(31249,) (31249, 100, 3)\n"
     ]
    }
   ],
   "source": [
    "# Test: last_index=component\n",
    "t, data = load_distributed_probe(probe_path, last_index='component')\n",
    "print(t.shape, data.shape)"
   ]
  },
  {
   "cell_type": "code",
   "execution_count": 7,
   "id": "edea42ea-58ba-4e0c-bbce-a3950fa7a83b",
   "metadata": {
    "tags": []
   },
   "outputs": [
    {
     "name": "stdout",
     "output_type": "stream",
     "text": [
      "(31249,) (31249, 3, 100)\n"
     ]
    }
   ],
   "source": [
    "# Test: last_index=probe\n",
    "t, data = load_distributed_probe(probe_path, last_index='probe')\n",
    "print(t.shape, data.shape)"
   ]
  },
  {
   "cell_type": "code",
   "execution_count": 5,
   "id": "a4aa9751-7ee2-45df-9689-80bcbbf2780d",
   "metadata": {
    "tags": []
   },
   "outputs": [
    {
     "name": "stdout",
     "output_type": "stream",
     "text": [
      "(31249,) (31249, 300)\n"
     ]
    }
   ],
   "source": [
    "# Test: last_index=None\n",
    "t, data = load_distributed_probe(probe_path, last_index=None)\n",
    "print(t.shape, data.shape)"
   ]
  },
  {
   "cell_type": "code",
   "execution_count": 3,
   "id": "5ae160bb-abec-43da-b62f-fbd2f56d058e",
   "metadata": {
    "tags": []
   },
   "outputs": [],
   "source": [
    "# Test: flatten distributed probe and save to new file\n",
    "convert_distributed_probe(probe_path)"
   ]
  },
  {
   "cell_type": "code",
   "execution_count": null,
   "id": "201e6395-aa04-425a-9a58-6d97e529f160",
   "metadata": {},
   "outputs": [],
   "source": []
  }
 ],
 "metadata": {
  "kernelspec": {
   "display_name": "Python 3 (ipykernel)",
   "language": "python",
   "name": "python3"
  },
  "language_info": {
   "codemirror_mode": {
    "name": "ipython",
    "version": 3
   },
   "file_extension": ".py",
   "mimetype": "text/x-python",
   "name": "python",
   "nbconvert_exporter": "python",
   "pygments_lexer": "ipython3",
   "version": "3.10.13"
  }
 },
 "nbformat": 4,
 "nbformat_minor": 5
}
