{
 "cells": [
  {
   "cell_type": "code",
   "execution_count": 1,
   "id": "d83f62d5-c3ad-427f-8465-006666970dff",
   "metadata": {
    "tags": []
   },
   "outputs": [],
   "source": [
    "from gtools import gtools"
   ]
  },
  {
   "cell_type": "code",
   "execution_count": 2,
   "id": "2b8a8980-5d45-4399-8e4a-d533b73d9b99",
   "metadata": {
    "tags": []
   },
   "outputs": [
    {
     "name": "stdout",
     "output_type": "stream",
     "text": [
      "Saved modified emin file to files\\restrict_surface_current_demo_1705014344.3282309.emin\n",
      "Saved modified emin file to files\\restrict_surface_current_demo_1705014344.5000718.emin\n"
     ]
    },
    {
     "name": "stderr",
     "output_type": "stream",
     "text": [
      "C:\\Users\\griffin.kowash\\Documents\\packages\\gtools\\gtools.py:230: UserWarning: Multiple emin files found in directory; selecting files\\restrict_surface_current_demo.emin.\n",
      "  warnings.warn(f'Multiple emin files found in directory; selecting {path_and_name}.')\n",
      "C:\\Users\\griffin.kowash\\Documents\\packages\\gtools\\gtools.py:182: UserWarning: No z-directed source elements found; probe definition deleted.\n",
      "  warnings.warn(f'No {direction}-directed source elements found; probe definition deleted.')\n"
     ]
    },
    {
     "name": "stdout",
     "output_type": "stream",
     "text": [
      "Saved modified emin file to files\\restrict_surface_current_demo_1705014344.6691844.emin\n"
     ]
    }
   ],
   "source": [
    "gtools.restrict_surface_current('files', 'x', False)\n",
    "gtools.restrict_surface_current('files', 'y', False)\n",
    "gtools.restrict_surface_current('files', 'z', False)"
   ]
  },
  {
   "cell_type": "code",
   "execution_count": null,
   "id": "c038537f-b974-4967-a378-385806aff5ce",
   "metadata": {},
   "outputs": [],
   "source": []
  },
  {
   "cell_type": "code",
   "execution_count": null,
   "id": "70600aed-463b-4051-94dd-1603de2af58d",
   "metadata": {},
   "outputs": [],
   "source": []
  }
 ],
 "metadata": {
  "kernelspec": {
   "display_name": "Python 3 (ipykernel)",
   "language": "python",
   "name": "python3"
  },
  "language_info": {
   "codemirror_mode": {
    "name": "ipython",
    "version": 3
   },
   "file_extension": ".py",
   "mimetype": "text/x-python",
   "name": "python",
   "nbconvert_exporter": "python",
   "pygments_lexer": "ipython3",
   "version": "3.10.13"
  }
 },
 "nbformat": 4,
 "nbformat_minor": 5
}
